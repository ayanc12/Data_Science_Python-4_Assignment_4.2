{
 "cells": [
  {
   "cell_type": "code",
   "execution_count": 2,
   "metadata": {},
   "outputs": [
    {
     "name": "stdout",
     "output_type": "stream",
     "text": [
      "Please enter one single character: A\n",
      "TRUE\n"
     ]
    }
   ],
   "source": [
    "\n",
    "# Defining a function to intake a character and decide if it is a vowel or not\n",
    "\n",
    "def isvowel (vowel):\n",
    "    check = [\"A\",\"a\",\"E\",\"e\",\"I\",\"i\",\"O\",\"o\",\"U\",\"u\"]\n",
    "    if vowel in check:\n",
    "        return 1\n",
    "    else:\n",
    "        return 0\n",
    "\n",
    "\n",
    "# Requesting the user to enter a single character (also includes validation if the entered string is of single character or not)\n",
    "vowel = \"\"\n",
    "while len(vowel)!= 1:\n",
    "    vowel = \"\"\n",
    "    vowel = input (\"Please enter one single character: \")\n",
    "    res = isvowel (vowel)\n",
    "    if res == 1:\n",
    "        print (\"TRUE\")\n",
    "    else:\n",
    "        print (\"FALSE\")\n"
   ]
  },
  {
   "cell_type": "code",
   "execution_count": null,
   "metadata": {},
   "outputs": [],
   "source": []
  }
 ],
 "metadata": {
  "kernelspec": {
   "display_name": "Python 3",
   "language": "python",
   "name": "python3"
  },
  "language_info": {
   "codemirror_mode": {
    "name": "ipython",
    "version": 3
   },
   "file_extension": ".py",
   "mimetype": "text/x-python",
   "name": "python",
   "nbconvert_exporter": "python",
   "pygments_lexer": "ipython3",
   "version": "3.6.4"
  }
 },
 "nbformat": 4,
 "nbformat_minor": 2
}
