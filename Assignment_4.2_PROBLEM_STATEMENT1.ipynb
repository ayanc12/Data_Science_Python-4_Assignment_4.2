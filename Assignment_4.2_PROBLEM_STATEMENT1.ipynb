{
 "cells": [
  {
   "cell_type": "code",
   "execution_count": 1,
   "metadata": {},
   "outputs": [
    {
     "name": "stdout",
     "output_type": "stream",
     "text": [
      "Please enter a list of words:i am a good boy\n",
      "[1, 2, 1, 4, 3]\n"
     ]
    }
   ],
   "source": [
    "# Function defination to intake a list of words and return a list with the length of each of the words\n",
    "def wordstonum (words):\n",
    "    length = []\n",
    "    for elm in words:\n",
    "        length.append(len(elm))\n",
    "    return length\n",
    "\n",
    "\n",
    "# Requesting the user to enter a list of words\n",
    "senten = input (\"Please enter a list of words:\")\n",
    "\n",
    "# Transforming the string of the list of words to a list\n",
    "word = senten.split()\n",
    "\n",
    "# Calling the function wordstonum()\n",
    "res = wordstonum (word)\n",
    "\n",
    "# Printing the list of the length of the entered words\n",
    "print (res)"
   ]
  },
  {
   "cell_type": "code",
   "execution_count": null,
   "metadata": {},
   "outputs": [],
   "source": []
  }
 ],
 "metadata": {
  "kernelspec": {
   "display_name": "Python 3",
   "language": "python",
   "name": "python3"
  },
  "language_info": {
   "codemirror_mode": {
    "name": "ipython",
    "version": 3
   },
   "file_extension": ".py",
   "mimetype": "text/x-python",
   "name": "python",
   "nbconvert_exporter": "python",
   "pygments_lexer": "ipython3",
   "version": "3.6.4"
  }
 },
 "nbformat": 4,
 "nbformat_minor": 2
}
